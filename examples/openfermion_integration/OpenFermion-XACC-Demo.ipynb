{
 "cells": [
  {
   "cell_type": "markdown",
   "metadata": {},
   "source": [
    "# OpenFermion and XACC\n",
    "Here we demonstrate how to integrate data structures from OpenFermion with XACC, and specifically the XACC-VQE application. XACC and XACC-VQE are both written in C++, but also expose a Python API that enables quick scripting. The VQE application now exposes functions that provide interoperability with OpenFermion - Hamiltonians may be developed and described in Python and OpenFermion, but run on any available XACC Accelerator, and specifically QPUs from Rigetti and IBM. \n",
    "\n",
    "Here we demonstrate IBM integration by programming the deuteron 2x2 Hamiltonian as a FermionOperator, and computing its energy on the IBMQX5 chip."
   ]
  },
  {
   "cell_type": "markdown",
   "metadata": {},
   "source": [
    "## Docker instructions\n",
    "```bash\n",
    "$ git clone https://github.com/ornl-qci/xacc-vqe && cd xacc-vqe/examples/openfermion\n",
    "$ docker run --name xacc-notebook -it -p 8888:8888 -d -v $(pwd):/home/notebooks mccaskey/xacc-all-gate-jupyter-fc26\n",
    "$ docker logs xacc-notebook (to see Jupyter URL)\n",
    "```\n",
    "Copy and paste the Jupyter URL into your browser, and open this Jupyter notebook."
   ]
  },
  {
   "cell_type": "markdown",
   "metadata": {},
   "source": [
    "## Programming 2x2 Deuteron Hamiltonian with OpenFermion (Simulation)"
   ]
  },
  {
   "cell_type": "code",
   "execution_count": null,
   "metadata": {},
   "outputs": [],
   "source": [
    "# Matrix elements\n",
    "mat2=np.array([[ -0.43658111,  -4.28660705],\n",
    "               [ -4.28660705,  12.25      ]])\n",
    "\n",
    "# Create the Hamiltonian with OpenFermion\n",
    "H_f = FermionOperator()              \n",
    "for i,j in [(0,0),(0,1),(1,0),(1,1)]:\n",
    "    H_f += FermionOperator('{}^ {}'.format(i,j), mat2[i,j])\n",
    "\n",
    "print('Jordan-Wigner: ', vqe.compile(H_f))\n",
    "print('Expected E = ', vqe.execute(H_f).energy)\n",
    "\n",
    "# Create the Ansatz Circuit for our VQE run\n",
    "statePrep = xacc.gate.GateFunction('ansatz', [InstructionParameter('theta')])\n",
    "statePrep.add(xacc.gate.create('X',[0]))\n",
    "statePrep.add(xacc.gate.create('Ry',[1],[InstructionParameter('theta')]))\n",
    "statePrep.add(xacc.gate.create('CNOT',[1,0]))\n",
    "\n",
    "# Specify the TNQVM Simulator\n",
    "accelerator = 'tnqvm'\n",
    "\n",
    "# Execute, here we are just going to compute the energy \n",
    "# at the optimal angle given by theory. \n",
    "tnqvmResult = vqe.execute(H_f, **{'task':'vqe', 'ansatz':statePrep})\n",
    "print('E = ', tnqvmResult.angles, tnqvmResult.energy)"
   ]
  },
  {
   "cell_type": "markdown",
   "metadata": {},
   "source": [
    "## Run on IBMQX5"
   ]
  },
  {
   "cell_type": "code",
   "execution_count": null,
   "metadata": {},
   "outputs": [],
   "source": [
    "# Switch to IBM Accelerator\n",
    "accelerator = 'ibm'\n",
    "\n",
    "# Specify that we want to run on IBMQX5 16 qubit chip\n",
    "# and max out the number of shots\n",
    "xacc.setOption('ibm-backend','ibmqx5') # comment out to run on simulator\n",
    "xacc.setOption('ibm-shots', '8192')\n",
    "\n",
    "# Execute, here, for time, we are just going to compute the energy \n",
    "# at the optimal angle given by theory. Furthermore, \n",
    "# XACC provides support for various error-mitigation strategies\n",
    "# Here we tell the execution to correct itself for qubit readout errors\n",
    "# And we run on qubits 10 and 9, due to its low CNOT error rate\n",
    "ibmqx5Result = vqe.execute(H_f, **{\n",
    "    'task':'compute-energy',\n",
    "    'vqe-params':str(tnqvmResult.angles[0]), 'ansatz':statePrep,\n",
    "    'accelerator':accelerator, 'qubit-map':[10,9], \n",
    "    'error-mitigation':['correct-readout-errors']\n",
    "    })\n",
    "print('E = ', ibmqx5Result.energy)"
   ]
  }
 ],
 "metadata": {
  "kernelspec": {
   "display_name": "Python 3",
   "language": "python",
   "name": "python3"
  },
  "language_info": {
   "codemirror_mode": {
    "name": "ipython",
    "version": 3
   },
   "file_extension": ".py",
   "mimetype": "text/x-python",
   "name": "python",
   "nbconvert_exporter": "python",
   "pygments_lexer": "ipython3",
   "version": "3.6.3"
  }
 },
 "nbformat": 4,
 "nbformat_minor": 2
}
