{
 "cells": [
  {
   "cell_type": "markdown",
   "metadata": {},
   "source": [
    "## OpenFermion FermionOperator Integration\n",
    "\n",
    "You can use Docker to easily run this notebook: \n",
    "\n",
    "```bash\n",
    "$ docker run --name xacc-notebook -it -p 8888:8888 -d -v $(pwd):/home/notebooks mccaskey/xacc-all-gate-jupyter-fc26\n",
    "$ (to see jupyter web address) docker logs xacc-notebook\n",
    "```\n",
    "\n",
    "Copy and paste the Jupyter URL into your web browser. You now have a fully configure XACC instance with XACC-IBM, XACC-Rigetti, XACC-Python, TNQVM, and XACC-VQE plugins. "
   ]
  },
  {
   "cell_type": "code",
   "execution_count": 1,
   "metadata": {},
   "outputs": [
    {
     "name": "stderr",
     "output_type": "stream",
     "text": [
      "/usr/lib64/python3.6/site-packages/h5py/__init__.py:36: FutureWarning: Conversion of the second argument of issubdtype from `float` to `np.floating` is deprecated. In future, it will be treated as `np.float64 == np.dtype(float).type`.\n",
      "  from ._conv import register_converters as _register_converters\n"
     ]
    },
    {
     "name": "stdout",
     "output_type": "stream",
     "text": [
      "Diagonalized E =  -1.137274736593949\n",
      "UCCSD VQE E =  -1.1372726844865666\n",
      "Jordan-Wigner with XACC:\n",
      " (0.174349,0) Z2 Z3 + (0.120546,0) Z1 Z3 + (-0.222797,0) Z3 + (0.165868,0) Z0 Z3 + (0.120546,0) Z0 Z2 + (0.0453219,0) X0 Y1 Y2 X3 + (-0.0453219,0) Y0 Y1 X2 X3 + (0.0453219,0) Y0 X1 X2 Y3 + (0.165868,0) Z1 Z2 + (-0.0453219,0) X0 X1 Y2 Y3 + (0.171202,0) Z1 + (0.168624,0) Z0 Z1 + (-0.222797,0) Z2 + (0.171202,0) Z0 + (-0.0988368,0)\n"
     ]
    }
   ],
   "source": [
    "from openfermion.ops import FermionOperator\n",
    "import sys\n",
    "sys.path.append('/usr/local/xacc/lib/python')\n",
    "import pyxaccvqe as vqe\n",
    "\n",
    "op = FermionOperator('', 0.713776) + \\\n",
    "   FermionOperator('0^ 0', -1.25248) + \\\n",
    "   FermionOperator('0^ 1^ 1 0', 0.337247) + \\\n",
    "   FermionOperator('0^ 1^ 3 2', 0.0906438) + \\\n",
    "   FermionOperator('0^ 2^ 0 2', 0.0906438) + \\\n",
    "   FermionOperator('0^ 2^ 2 0', 0.331736) + \\\n",
    "   FermionOperator('0^ 3^ 1 2', 0.0906438) + \\\n",
    "   FermionOperator('0^ 3^ 3 0', 0.331736) + \\\n",
    "   FermionOperator('1^ 0^ 0 1', 0.337247) + \\\n",
    "   FermionOperator('1^ 0^ 2 3', 0.0906438) + \\\n",
    "   FermionOperator('1^ 1', -1.25248) + \\\n",
    "   FermionOperator('1^ 2^ 0 3', 0.0906438) + \\\n",
    "   FermionOperator('1^ 2^ 2 1', 0.331736) + \\\n",
    "   FermionOperator('1^ 3^ 1 3', 0.0906438) + \\\n",
    "   FermionOperator('1^ 3^ 3 1', 0.331736) + \\\n",
    "   FermionOperator('2^ 0^ 0 2', 0.331736) + \\\n",
    "   FermionOperator('2^ 0^ 2 0', 0.0906438) + \\\n",
    "   FermionOperator('2^ 1^ 1 2', 0.331736) + \\\n",
    "   FermionOperator('2^ 1^ 3 0', 0.0906438) + \\\n",
    "   FermionOperator('2^ 2', -0.475934) + \\\n",
    "   FermionOperator('2^ 3^ 1 0', 0.0906438) + \\\n",
    "   FermionOperator('2^ 3^ 3 2', 0.348699) + \\\n",
    "   FermionOperator('3^ 0^ 0 3', 0.331736) + \\\n",
    "   FermionOperator('3^ 0^ 2 1', 0.0906438) + \\\n",
    "   FermionOperator('3^ 1^ 1 3', 0.331736) + \\\n",
    "   FermionOperator('3^ 1^ 3 1', 0.0906438) + \\\n",
    "   FermionOperator('3^ 2^ 0 1', 0.0906438) + \\\n",
    "   FermionOperator('3^ 2^ 2 3', 0.348699) + \\\n",
    "   FermionOperator('3^ 3', -0.475934)\n",
    "\n",
    "# Convert op to a Pauli hamiltonian, and diagonalize \n",
    "# that hamiltonian with Eigen\n",
    "print('Diagonalized E = ', vqe.execute(op).results[0][1])\n",
    "\n",
    "print('UCCSD VQE E = ', vqe.execute(op, **{'task':'vqe', 'n-electrons':2}).results[0][1])\n",
    "\n",
    "print('Jordan-Wigner with XACC:\\n', vqe.compile(op))\n"
   ]
  },
  {
   "cell_type": "code",
   "execution_count": null,
   "metadata": {},
   "outputs": [],
   "source": []
  }
 ],
 "metadata": {
  "kernelspec": {
   "display_name": "Python 3",
   "language": "python",
   "name": "python3"
  },
  "language_info": {
   "codemirror_mode": {
    "name": "ipython",
    "version": 3
   },
   "file_extension": ".py",
   "mimetype": "text/x-python",
   "name": "python",
   "nbconvert_exporter": "python",
   "pygments_lexer": "ipython3",
   "version": "3.6.3"
  }
 },
 "nbformat": 4,
 "nbformat_minor": 2
}
