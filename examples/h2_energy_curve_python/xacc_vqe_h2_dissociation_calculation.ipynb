{
 "cells": [
  {
   "cell_type": "markdown",
   "metadata": {},
   "source": [
    "# $H_2$ Energy Surface with XACC-VQE"
   ]
  },
  {
   "cell_type": "markdown",
   "metadata": {},
   "source": [
    "To run this problem via docker, run the following from an empty directory\n",
    "\n",
    "```bash\n",
    "$ docker run --name xacc-notebook -it -p 8888:8888 -d -v $(pwd):/home/notebooks mccaskey/xacc-all-gate-jupyter-fc26\n",
    "```"
   ]
  },
  {
   "cell_type": "markdown",
   "metadata": {},
   "source": [
    "## Setup the Problem"
   ]
  },
  {
   "cell_type": "code",
   "execution_count": 5,
   "metadata": {
    "scrolled": false
   },
   "outputs": [
    {
     "name": "stdout",
     "output_type": "stream",
     "text": [
      "Hamiltonian =  (1,0) g5 X0 X1 + (1,0) g4 Y0 Y1 + (1,0) g2 Z1 + (1,0) g0 + (1,0) g3 Z0 Z1 + (1,0) g1 Z0\n"
     ]
    }
   ],
   "source": [
    "import sys, os\n",
    "sys.path.append('/usr/local/xacc/lib/python')\n",
    "import pyxacc as xacc\n",
    "import pyxaccvqe as vqe\n",
    "from pyxaccvqe import PauliOperator\n",
    "from pyxacc import InstructionParameter\n",
    "import numpy as np\n",
    "%matplotlib inline\n",
    "# from mpi4py import MPI\n",
    "# comm = MPI.COMM_WORLD\n",
    "\n",
    "# Initialize the framework \n",
    "# xacc.Initialize()\n",
    "\n",
    "# Create our Hamiltonian\n",
    "H = PauliOperator('g0') + PauliOperator({0:'Z'},'g1') + PauliOperator({1:'Z'},'g2') \\\n",
    "\t+ PauliOperator({0:'Z',1:'Z'},'g3') + PauliOperator({0:'Y',1:'Y'}, 'g4') \\\n",
    "\t+ PauliOperator({0:'X',1:'X'},'g5')\n",
    "\n",
    "# Read in the coefficient data as a function of R\n",
    "h2coeffs = np.genfromtxt('h2_hamiltonian_data.csv', delimiter=',', names=['R', 'I', 'Z0', 'Z1', 'Z0Z1', 'Y0Y1', 'X0X1'])\n",
    "\n",
    "# Construct some lists to detail the name of \n",
    "# the variable coefficients, and the columns in the data file\n",
    "gs = ['g0', 'g1', 'g2', 'g3', 'g4', 'g5']\n",
    "cols = ['I', 'Z0', 'Z1', 'Z0Z1', 'Y0Y1', 'X0X1']\n",
    "\n",
    "# Map column name to variable name\n",
    "gMap = {c:gs[i] for i,c in enumerate(cols)}\n",
    "\n",
    "# Setup an empty options map, we will add to it for \n",
    "# VQE run after straight diagonalization run\n",
    "# NOTE that default task is vqe-diagonalize and \n",
    "# default backend is Eigen. \n",
    "vqeOptions = {} \n",
    "\n",
    "print('Hamiltonian = ', H)"
   ]
  },
  {
   "cell_type": "markdown",
   "metadata": {},
   "source": [
    "## Compute Energy Surface using Eigen Diagonalization"
   ]
  },
  {
   "cell_type": "code",
   "execution_count": 6,
   "metadata": {},
   "outputs": [
    {
     "data": {
      "image/png": "[encoded data removed]",
      "text/plain": [
       "<matplotlib.figure.Figure at 0x7f114ccea048>"
      ]
     },
     "metadata": {},
     "output_type": "display_data"
    }
   ],
   "source": [
    "energies = []\n",
    "# Loop over all R\n",
    "for i, r in enumerate(h2coeffs['R']):\n",
    "    \n",
    "    # Construct the variable to coeff map\n",
    "    varMap = {gMap[k]:h2coeffs[k][i] for k in cols}\n",
    "\n",
    "    # Evaluate our Hamiltonian\n",
    "    Heval = H.eval(varMap)\n",
    "\n",
    "    # Execute - this diagonalizes the Hamiltonian \n",
    "    # and returns lowest eigenvalue\n",
    "    e = vqe.execute(Heval, **vqeOptions).results[0][1]\n",
    "    energies.append(e)\n",
    "\n",
    "import matplotlib.pyplot as plt\n",
    "plt.xlabel(r'R')\n",
    "plt.ylabel(r'$\\langle H\\rangle$')\n",
    "plt.plot(h2coeffs['R'], energies, color='k', label='Eigen exact diagonalization')\n",
    "plt.legend()\n",
    "plt.show()"
   ]
  },
  {
   "cell_type": "markdown",
   "metadata": {},
   "source": [
    "## Compute Energy Surface with VQE using TNQVM"
   ]
  },
  {
   "cell_type": "code",
   "execution_count": 7,
   "metadata": {},
   "outputs": [
    {
     "data": {
      "image/png": "[encoded data removed]",
      "text/plain": [
       "<matplotlib.figure.Figure at 0x7f113b9600f0>"
      ]
     },
     "metadata": {},
     "output_type": "display_data"
    }
   ],
   "source": [
    "# Create the State Preparation Circuit for our VQE Run\n",
    "statePrep = xacc.gate.GateFunction('statePrep', [InstructionParameter('theta')])\n",
    "statePrep.add(xacc.gate.create('Rx',[0],[InstructionParameter(np.pi)]))\n",
    "statePrep.add(xacc.gate.create('Ry',[1],[InstructionParameter(np.pi/2.)]))\n",
    "statePrep.add(xacc.gate.create('Rx',[0],[InstructionParameter(7.8539752)]))\n",
    "statePrep.add(xacc.gate.create('CNOT',[1,0]))\n",
    "statePrep.add(xacc.gate.create('Rz',[0],[InstructionParameter('theta')]))\n",
    "statePrep.add(xacc.gate.create('CNOT',[1,0]))\n",
    "statePrep.add(xacc.gate.create('Ry',[1],[InstructionParameter(7.8539752)]))\n",
    "statePrep.add(xacc.gate.create('Rx',[0],[InstructionParameter(np.pi/2.)]))\n",
    "\n",
    "vqeOptions = {'task':'vqe', 'ansatz':statePrep} \n",
    "\n",
    "vqeenergies = []\n",
    "# Loop over all R\n",
    "for i, r in enumerate(h2coeffs['R']):\n",
    "    \n",
    "    # Construct the variable to coeff map\n",
    "    varMap = {gMap[k]:h2coeffs[k][i] for k in cols}\n",
    "\n",
    "    # Evaluate our Hamiltonian\n",
    "    Heval = H.eval(varMap)\n",
    "\n",
    "    # Execute - this diagonalizes the Hamiltonian \n",
    "    # and returns lowest eigenvalue\n",
    "    e = vqe.execute(Heval, **vqeOptions).results[0][1]\n",
    "    vqeenergies.append(e)\n",
    "\n",
    "import matplotlib.pyplot as plt\n",
    "plt.xlabel(r'R')\n",
    "plt.ylabel(r'$\\langle H\\rangle$')\n",
    "plt.plot(h2coeffs['R'], vqeenergies, color='k', label='TNQVM VQE')\n",
    "plt.legend()\n",
    "plt.show()"
   ]
  },
  {
   "cell_type": "markdown",
   "metadata": {},
   "source": [
    "## Finalize the Framework"
   ]
  },
  {
   "cell_type": "code",
   "execution_count": 10,
   "metadata": {},
   "outputs": [],
   "source": [
    "xacc.Finalize()"
   ]
  },
  {
   "cell_type": "code",
   "execution_count": null,
   "metadata": {},
   "outputs": [],
   "source": []
  }
 ],
 "metadata": {
  "kernelspec": {
   "display_name": "Python 3",
   "language": "python",
   "name": "python3"
  },
  "language_info": {
   "codemirror_mode": {
    "name": "ipython",
    "version": 3
   },
   "file_extension": ".py",
   "mimetype": "text/x-python",
   "name": "python",
   "nbconvert_exporter": "python",
   "pygments_lexer": "ipython3",
   "version": "3.6.3"
  }
 },
 "nbformat": 4,
 "nbformat_minor": 2
}
