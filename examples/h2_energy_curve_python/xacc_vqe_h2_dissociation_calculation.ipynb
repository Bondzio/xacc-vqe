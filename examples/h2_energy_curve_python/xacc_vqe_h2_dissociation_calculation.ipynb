{
 "cells": [
  {
   "cell_type": "markdown",
   "metadata": {},
   "source": [
    "# $H_2$ Energy Surface with XACC-VQE"
   ]
  },
  {
   "cell_type": "markdown",
   "metadata": {},
   "source": [
    "To run this problem via docker, run the following from an empty directory\n",
    "\n",
    "```bash\n",
    "$ docker run --name xacc-notebook -it -p 8888:8888 -d -v $(pwd):/home/notebooks mccaskey/xacc-all-gate-jupyter-fc26\n",
    "```"
   ]
  },
  {
   "cell_type": "markdown",
   "metadata": {},
   "source": [
    "## Setup the Problem"
   ]
  },
  {
   "cell_type": "code",
   "execution_count": 1,
   "metadata": {
    "scrolled": false
   },
   "outputs": [
    {
     "name": "stdout",
     "output_type": "stream",
     "text": [
      "Hamiltonian =  (1,0) g0 + (1,0) g2 Z1 + (1,0) g3 Z0 Z1 + (1,0) g4 Y0 Y1 + (1,0) g1 Z0 + (1,0) g5 X0 X1\n"
     ]
    }
   ],
   "source": [
    "import sys, os\n",
    "import pyxacc as xacc\n",
    "import pyxaccvqe as vqe\n",
    "from pyxaccvqe import PauliOperator\n",
    "from pyxacc import InstructionParameter\n",
    "import numpy as np\n",
    "%matplotlib inline\n",
    "\n",
    "# Create our Hamiltonian\n",
    "H = PauliOperator('g0') + PauliOperator({0:'Z'},'g1') + PauliOperator({1:'Z'},'g2') \\\n",
    "\t+ PauliOperator({0:'Z',1:'Z'},'g3') + PauliOperator({0:'Y',1:'Y'}, 'g4') \\\n",
    "\t+ PauliOperator({0:'X',1:'X'},'g5')\n",
    "\n",
    "# Read in the coefficient data as a function of R\n",
    "h2coeffs = np.genfromtxt('h2_hamiltonian_data.csv', delimiter=',', names=['R', 'I', 'Z0', 'Z1', 'Z0Z1', 'Y0Y1', 'X0X1'])\n",
    "\n",
    "# Construct some lists to detail the name of \n",
    "# the variable coefficients, and the columns in the data file\n",
    "gs = ['g0', 'g1', 'g2', 'g3', 'g4', 'g5']\n",
    "cols = ['I', 'Z0', 'Z1', 'Z0Z1', 'Y0Y1', 'X0X1']\n",
    "\n",
    "# Map column name to variable name\n",
    "gMap = {c:gs[i] for i,c in enumerate(cols)}\n",
    "\n",
    "# Setup an empty options map, we will add to it for \n",
    "# VQE run after straight diagonalization run\n",
    "# NOTE that default task is vqe-diagonalize and \n",
    "# default backend is Eigen. \n",
    "vqeOptions = {} \n",
    "\n",
    "print('Hamiltonian = ', H)"
   ]
  },
  {
   "cell_type": "markdown",
   "metadata": {},
   "source": [
    "## Compute Energy Surface using Eigen Diagonalization"
   ]
  },
  {
   "cell_type": "code",
   "execution_count": 4,
   "metadata": {},
   "outputs": [
    {
     "data": {
      "image/png": "[encoded data removed]",
      "text/plain": [
       "<matplotlib.figure.Figure at 0x1091dd240>"
      ]
     },
     "metadata": {},
     "output_type": "display_data"
    },
    {
     "name": "stdout",
     "output_type": "stream",
     "text": [
      "[nan, 0.14421033191099078, -0.3239392452849163, -0.6129745446098808, -0.8005102614889511, -0.9252596050468844, -1.0090090168725934, -1.0653917810254399, -1.1023261930074157, -1.1255942623603343, -1.138944744265075, -1.1449602744086183, -1.145599124123644, -1.1426780822372007, -1.1366267416569642, -1.1285566250529924, -1.1192976811310633, -1.108916728018456, -1.0980199958810752, -1.08683514089159, -1.0753721313653328, -1.0642391354996807, -1.0534428198670482, -1.0429960772068512, -1.032929756778952, -1.0235800048376693, -1.0148230772539004, -1.0066547782599162, -0.9990246022682364, -0.9922259545720717, -0.9858045727517245, -0.9801467267992977, -0.9751555229656769, -0.9708068577346939, -0.9668306578179781, -0.963298281781869, -0.9603564069640453, -0.9576146716412125, -0.9552900453924044, -0.9534512612030396, -0.9516035927916376, -0.9501833680820638, -0.949015844628429, -0.9478716054742458, -0.9469815432620154, -0.9462192610724477, -0.9454641240197313, -0.9448869305338706, -0.944566266635618, -0.9441503231085566, -0.943860738604226, -0.9436642444850413, -0.9432383909566617, -0.9431724165918651, -0.9429725037828017]\n"
     ]
    }
   ],
   "source": [
    "energies = []\n",
    "# Loop over all R\n",
    "for i, r in enumerate(h2coeffs['R']):\n",
    "    \n",
    "    # Construct the variable to coeff map\n",
    "    varMap = {gMap[k]:h2coeffs[k][i] for k in cols}\n",
    "\n",
    "    # Evaluate our Hamiltonian\n",
    "    Heval = H.eval(varMap)\n",
    "\n",
    "    # Execute - this diagonalizes the Hamiltonian \n",
    "    # and returns lowest eigenvalue\n",
    "    e = vqe.execute(Heval, **vqeOptions).energy\n",
    "    energies.append(e)\n",
    "\n",
    "import matplotlib.pyplot as plt\n",
    "plt.xlabel(r'R')\n",
    "plt.ylabel(r'$\\langle H\\rangle$')\n",
    "plt.plot(h2coeffs['R'], energies, color='k', label='Eigen exact diagonalization')\n",
    "plt.legend()\n",
    "plt.show()\n",
    "print(energies)"
   ]
  },
  {
   "cell_type": "markdown",
   "metadata": {},
   "source": [
    "## Compute Energy Surface with VQE using TNQVM"
   ]
  },
  {
   "cell_type": "code",
   "execution_count": 6,
   "metadata": {},
   "outputs": [
    {
     "data": {
      "image/png": "[encoded data removed]",
      "text/plain": [
       "<matplotlib.figure.Figure at 0x1091db208>"
      ]
     },
     "metadata": {},
     "output_type": "display_data"
    }
   ],
   "source": [
    "# Create the State Preparation Circuit for our VQE Run\n",
    "statePrep = xacc.gate.GateFunction('statePrep', ['theta'])\n",
    "statePrep.add(xacc.gate.create('Rx',[0],[np.pi]))\n",
    "statePrep.add(xacc.gate.create('Ry',[1],[np.pi/2.]))\n",
    "statePrep.add(xacc.gate.create('Rx',[0],[7.8539752]))\n",
    "statePrep.add(xacc.gate.create('CNOT',[1,0]))\n",
    "statePrep.add(xacc.gate.create('Rz',[0],['theta']))\n",
    "statePrep.add(xacc.gate.create('CNOT',[1,0]))\n",
    "statePrep.add(xacc.gate.create('Ry',[1],[7.8539752]))\n",
    "statePrep.add(xacc.gate.create('Rx',[0],[np.pi/2.]))\n",
    "\n",
    "vqeOptions = {'task':'vqe', 'ansatz':statePrep} \n",
    "\n",
    "vqeenergies = []\n",
    "# Loop over all R\n",
    "for i, r in enumerate(h2coeffs['R']):\n",
    "    \n",
    "    # Construct the variable to coeff map\n",
    "    varMap = {gMap[k]:h2coeffs[k][i] for k in cols}\n",
    "\n",
    "    # Evaluate our Hamiltonian\n",
    "    Heval = H.eval(varMap)\n",
    "\n",
    "    # Execute - this diagonalizes the Hamiltonian \n",
    "    # and returns lowest eigenvalue\n",
    "    e = vqe.execute(Heval, **vqeOptions).energy\n",
    "    vqeenergies.append(e)\n",
    "\n",
    "import matplotlib.pyplot as plt\n",
    "plt.xlabel(r'R')\n",
    "plt.ylabel(r'$\\langle H\\rangle$')\n",
    "plt.plot(h2coeffs['R'], vqeenergies, color='k', label='TNQVM VQE')\n",
    "plt.legend()\n",
    "plt.show()"
   ]
  },
  {
   "cell_type": "markdown",
   "metadata": {},
   "source": [
    "## Finalize the Framework"
   ]
  },
  {
   "cell_type": "code",
   "execution_count": 10,
   "metadata": {},
   "outputs": [],
   "source": [
    "xacc.Finalize()"
   ]
  },
  {
   "cell_type": "code",
   "execution_count": null,
   "metadata": {},
   "outputs": [],
   "source": []
  }
 ],
 "metadata": {
  "kernelspec": {
   "display_name": "Python 3",
   "language": "python",
   "name": "python3"
  },
  "language_info": {
   "codemirror_mode": {
    "name": "ipython",
    "version": 3
   },
   "file_extension": ".py",
   "mimetype": "text/x-python",
   "name": "python",
   "nbconvert_exporter": "python",
   "pygments_lexer": "ipython3",
   "version": "3.6.4"
  }
 },
 "nbformat": 4,
 "nbformat_minor": 2
}
