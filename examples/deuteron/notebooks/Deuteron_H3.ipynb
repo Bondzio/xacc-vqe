{
 "cells": [
  {
   "cell_type": "markdown",
   "metadata": {},
   "source": [
    "# Simulating Deuteron $H_3$ with XACC-VQE\n",
    "To run this problem via docker, run the following from an empty directory\n",
    "\n",
    "```bash\n",
    "$ docker run --name xacc-notebook -it -p 8888:8888 -d -v $(pwd):/home/notebooks xacc/xacc-all-gate-jupyter-fc26\n",
    "$ (to see jupyter notebook URL) docker logs xacc-notebook\n",
    "```"
   ]
  },
  {
   "cell_type": "markdown",
   "metadata": {},
   "source": [
    "## Import necessary libraries, create the Hamiltonian and Ansatz Circuits"
   ]
  },
  {
   "cell_type": "code",
   "execution_count": 5,
   "metadata": {},
   "outputs": [
    {
     "name": "stdout",
     "output_type": "stream",
     "text": [
      "(-2.1433,0) X0 X1 + (-2.1433,0) Y0 Y1 + (15.5317,0) + (-9.625,0) Z2 + (0.21829,0) Z0 + (-3.91312,0) Y1 Y2 + (-6.125,0) Z1 + (-3.91312,0) X1 X2\n"
     ]
    }
   ],
   "source": [
    "import sys\n",
    "sys.path.append('/usr/local/xacc/lib/python')\n",
    "import numpy as np\n",
    "import pyxacc as xacc\n",
    "from pyxacc import InstructionParameter\n",
    "import pyxaccvqe as vqe\n",
    "from pyxaccvqe import PauliOperator\n",
    "%matplotlib inline\n",
    "\n",
    "xacc.Initialize(['--compiler','quil'])\n",
    "\n",
    "# Specify the Accelerator to run on, \n",
    "# default to TNQVM MPS simulator\n",
    "qpuName = 'tnqvm'\n",
    "qpu = xacc.getAccelerator(qpuName)\n",
    "errorMitigation = ['correct-readout-errors']\n",
    "logicalToPhysicalQubitMapping = [0,1,2]\n",
    "nQubits = max(logicalToPhysicalQubitMapping) + 1\n",
    "\n",
    "# Construct the H2 Hamiltonian (see Eq 4 of paper)\n",
    "H2 = PauliOperator(5.906709445) + \\\n",
    "    PauliOperator({0:'X',1:'X'}, -2.1433) + \\\n",
    "    PauliOperator({0:'Y',1:'Y'}, -2.1433) + \\\n",
    "    PauliOperator({0:'Z'}, .21829) + \\\n",
    "    PauliOperator({1:'Z'}, -6.125)\n",
    "\n",
    "# Construct H3 Hamiltonian (see Eq 5 of paper)\n",
    "H3 = H2 + PauliOperator(9.625) + \\\n",
    "    PauliOperator({1:'X',2:'X'}, -3.913119) + \\\n",
    "    PauliOperator({1:'Y',2:'Y'}, -3.913119) + \\\n",
    "    PauliOperator({2:'Z'}, -9.625)\n",
    "\n",
    "# Code up and compile the H3 ansatz in Quil\n",
    "srcH3 = \"\"\"__qpu__ ansatz(AcceleratorBuffer, double t0, double t1) {\n",
    "X 0\n",
    "RY(t0) 2\n",
    "CNOT 2 0\n",
    "RY(t1) 1\n",
    "CNOT 0 1\n",
    "RY(-t1) 1\n",
    "CNOT 0 1\n",
    "CNOT 1 0\n",
    "}\"\"\"\n",
    "ansatzH3 = xacc.Program(qpu, srcH3).getKernel('ansatz').getIRFunction()\n",
    "print(H3)"
   ]
  },
  {
   "cell_type": "markdown",
   "metadata": {},
   "source": [
    "## Parameter Sweep"
   ]
  },
  {
   "cell_type": "code",
   "execution_count": 2,
   "metadata": {},
   "outputs": [
    {
     "data": {
      "image/png": "[encoded data removed]",
      "text/plain": [
       "<matplotlib.figure.Figure at 0x1055ff5f8>"
      ]
     },
     "metadata": {},
     "output_type": "display_data"
    }
   ],
   "source": [
    "#Compute the H3 energy grid\n",
    "angle_range = np.linspace(-np.pi,np.pi,50)\n",
    "energiesH3 = [[vqe.execute(H3, **{'task':'compute-energy',\n",
    "                                  'vqe-params':str(t0)+','+str(t1), \n",
    "                                  'ansatz':ansatzH3,\n",
    "                                  'error-mitigation':errorMitigation, \n",
    "                                  'qubit-map':logicalToPhysicalQubitMapping}).energy \n",
    "            for t0 in angle_range] for t1 in angle_range]\n",
    "\n",
    "import matplotlib.pyplot as plt\n",
    "plt.figure(figsize=(15,7))\n",
    "import matplotlib\n",
    "cmap = matplotlib.cm.get_cmap('inferno')  # this loads the cubehelix color map which prints well in b/w \n",
    "ax = plt.subplot()\n",
    "plt.imshow(energiesH3,interpolation='nearest',cmap=cmap,extent=(\n",
    "    angle_range.min(),angle_range.max(),angle_range.max(),angle_range.min()))\n",
    "ax.set_xlabel=r'$\\alpha_1'\n",
    "ax.set_ylabel=r'$\\alpha_2'\n",
    "plt.xlabel=r'$\\alpha_1'\n",
    "plt.ylabel=r'$\\alpha_2'\n",
    "plt.colorbar()\n",
    "plt.show()"
   ]
  },
  {
   "cell_type": "markdown",
   "metadata": {},
   "source": [
    "## VQE Routine"
   ]
  },
  {
   "cell_type": "code",
   "execution_count": 4,
   "metadata": {},
   "outputs": [
    {
     "name": "stdout",
     "output_type": "stream",
     "text": [
      "(Optimal Angle, Energy) = ( [6.02638641 3.50072523] , -2.0456658659361446 )\n",
      "Number of QPU Calls =  490\n",
      "Number of VQE Iterations =  70\n"
     ]
    }
   ],
   "source": [
    "\n",
    "vqeResultH3 = vqe.execute(H3, **{'task':'vqe', 'ansatz':ansatzH3, \n",
    "                                 'error-mitigation':errorMitigation, \n",
    "                                 'qubit-map':logicalToPhysicalQubitMapping})\n",
    "print('(Optimal Angle, Energy) = (', vqeResultH3.angles, ',', vqeResultH3.energy, ')')\n",
    "print('Number of QPU Calls = ', vqeResultH3.nQpuCalls)\n",
    "print('Number of VQE Iterations = ', vqeResultH3.vqeIterations)\n"
   ]
  },
  {
   "cell_type": "code",
   "execution_count": null,
   "metadata": {},
   "outputs": [],
   "source": []
  }
 ],
 "metadata": {
  "kernelspec": {
   "display_name": "Python 3",
   "language": "python",
   "name": "python3"
  },
  "language_info": {
   "codemirror_mode": {
    "name": "ipython",
    "version": 3
   },
   "file_extension": ".py",
   "mimetype": "text/x-python",
   "name": "python",
   "nbconvert_exporter": "python",
   "pygments_lexer": "ipython3",
   "version": "3.6.4"
  }
 },
 "nbformat": 4,
 "nbformat_minor": 2
}
