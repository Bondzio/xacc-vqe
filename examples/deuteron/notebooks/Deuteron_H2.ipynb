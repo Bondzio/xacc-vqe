{
 "cells": [
  {
   "cell_type": "markdown",
   "metadata": {},
   "source": [
    "# Simulating Deuteron $H_2$ with XACC-VQE\n",
    "To run this problem via docker, run the following from an empty directory\n",
    "\n",
    "```bash\n",
    "$ docker run --name xacc-notebook -it -p 8888:8888 -d -v $(pwd):/home/notebooks xacc/xacc-all-gate-jupyter-fc26\n",
    "$ (to see jupyter notebook URL) docker logs xacc-notebook\n",
    "```"
   ]
  },
  {
   "cell_type": "markdown",
   "metadata": {},
   "source": [
    "## Import necessary libraries, create the Hamiltonian and Ansatz Circuits"
   ]
  },
  {
   "cell_type": "code",
   "execution_count": 2,
   "metadata": {},
   "outputs": [],
   "source": [
    "import sys\n",
    "sys.path.append('/usr/local/xacc/lib/python')\n",
    "import numpy as np\n",
    "import pyxacc as xacc\n",
    "from pyxacc import InstructionParameter\n",
    "import pyxaccvqe as vqe\n",
    "from pyxaccvqe import PauliOperator\n",
    "%matplotlib inline\n",
    "\n",
    "xacc.Initialize(['--compiler','quil'])\n",
    "\n",
    "# Specify the Accelerator to run on, \n",
    "# default to TNQVM MPS simulator\n",
    "qpuName = 'tnqvm'\n",
    "qpu = xacc.getAccelerator(qpuName)\n",
    "errorMitigation = ['correct-readout-errors']\n",
    "logicalToPhysicalQubitMapping = [0,1]\n",
    "nQubits = max(logicalToPhysicalQubitMapping) + 1\n",
    "\n",
    "# Construct the H2 Hamiltonian (see Eq 4 of paper)\n",
    "H2 = PauliOperator(5.906709445) + \\\n",
    "    PauliOperator({0:'X',1:'X'}, -2.1433) + \\\n",
    "    PauliOperator({0:'Y',1:'Y'}, -2.1433) + \\\n",
    "    PauliOperator({0:'Z'}, .21829) + \\\n",
    "    PauliOperator({1:'Z'}, -6.125)\n",
    "\n",
    "# Code up and compile the H2 ansatz in Quil\n",
    "srcH2 = \"\"\"__qpu__ ansatz(AcceleratorBuffer, double t0) {\n",
    "X 0\n",
    "RY(t0) 1\n",
    "CNOT 1 0\n",
    "}\"\"\"\n",
    "ansatzH2 = xacc.Program(qpu, srcH2).getKernel('ansatz').getIRFunction()\n"
   ]
  },
  {
   "cell_type": "markdown",
   "metadata": {},
   "source": [
    "## Parameter Sweep"
   ]
  },
  {
   "cell_type": "code",
   "execution_count": 3,
   "metadata": {},
   "outputs": [
    {
     "data": {
      "image/png": "[encoded data removed]",
      "text/plain": [
       "<matplotlib.figure.Figure at 0x1091cd860>"
      ]
     },
     "metadata": {},
     "output_type": "display_data"
    }
   ],
   "source": [
    "# Sweep over the given angle range for H2 and plot\n",
    "angle_range = np.linspace(-np.pi,np.pi,50)\n",
    "energiesH2 = [vqe.execute(H2, **{'task':'compute-energy', \n",
    "                                        'vqe-params':str(t), \n",
    "                                        'ansatz':ansatzH2, 'n-qubits':nQubits,\n",
    "                                        'error-mitigation':errorMitigation, \n",
    "                                        'qubit-map':logicalToPhysicalQubitMapping}).energy \n",
    "            for t in angle_range]\n",
    "import matplotlib.pyplot as plt\n",
    "plt.figure(figsize=(9,5))\n",
    "plt.xlabel(r'$\\theta$')\n",
    "plt.ylabel(r'$\\langle H\\rangle$')\n",
    "plt.plot(angle_range, energiesH2, '-', color='b', label=r'tnqvm')\n",
    "plt.legend()\n",
    "plt.show()\n"
   ]
  },
  {
   "cell_type": "markdown",
   "metadata": {},
   "source": [
    "## VQE routine"
   ]
  },
  {
   "cell_type": "code",
   "execution_count": 4,
   "metadata": {},
   "outputs": [
    {
     "name": "stdout",
     "output_type": "stream",
     "text": [
      "H2 (Optimal Angle, Energy) = ( [0.59457095] , -1.7491551404540182 )\n"
     ]
    }
   ],
   "source": [
    "# Execute H2 VQE routine\n",
    "vqeResultH2 = vqe.execute(H2, **{'task':'vqe', 'ansatz':ansatzH2, \n",
    "                                 'error-mitigation':errorMitigation, \n",
    "                                 'qubit-map':logicalToPhysicalQubitMapping})\n",
    "print('H2 (Optimal Angle, Energy) = (', vqeResultH2.angles, ',', vqeResultH2.energy, ')')"
   ]
  },
  {
   "cell_type": "code",
   "execution_count": null,
   "metadata": {},
   "outputs": [],
   "source": []
  }
 ],
 "metadata": {
  "kernelspec": {
   "display_name": "Python 3",
   "language": "python",
   "name": "python3"
  },
  "language_info": {
   "codemirror_mode": {
    "name": "ipython",
    "version": 3
   },
   "file_extension": ".py",
   "mimetype": "text/x-python",
   "name": "python",
   "nbconvert_exporter": "python",
   "pygments_lexer": "ipython3",
   "version": "3.6.4"
  }
 },
 "nbformat": 4,
 "nbformat_minor": 2
}
